{
 "cells": [
  {
   "attachments": {},
   "cell_type": "markdown",
   "metadata": {},
   "source": [
    "## Paramerterized Backward Process\n",
    "- we start in with mean zero and variance one\n",
    "$$\n",
    "P_{\\theta}(x_0) = \\mathcal{N}(x_0; 0, I)\n",
    "$$\n",
    "\n",
    "- in the sequence, the transition from one timestep to the next is predicted \n",
    "\n",
    "$$\n",
    "P_{\\theta}(x_{0:T}) = P(x_T)\\prod_{t=1}^T P_{\\theta}(x_{t-1}|x_{t})\n",
    "$$\n",
    "\n",
    "- iterate from xT to x0, \n",
    "- the denisty P(xT) is defined by the predicted gaussian noise in the distribution of image\n",
    "- in order to get the we subtract the predicted noise from the image at the previous timestep during the forward pass(sampling)\n",
    "$$\n",
    "x_{t-1} \\approx x_t - Noise\n",
    "$$"
   ]
  },
  {
   "cell_type": "code",
   "execution_count": null,
   "metadata": {},
   "outputs": [],
   "source": []
  }
 ],
 "metadata": {
  "language_info": {
   "name": "python"
  },
  "orig_nbformat": 4
 },
 "nbformat": 4,
 "nbformat_minor": 2
}
