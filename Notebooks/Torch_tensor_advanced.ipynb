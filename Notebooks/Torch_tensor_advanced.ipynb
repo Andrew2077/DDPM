{
 "cells": [
  {
   "attachments": {},
   "cell_type": "markdown",
   "metadata": {},
   "source": [
    "## Understanding some advanced tensor operations in PyTorch\n",
    "\n",
    "- torch.nn.functional.Pad\n",
    "- torch.gather\n",
    "- \n",
    "- "
   ]
  },
  {
   "cell_type": "code",
   "execution_count": 2,
   "metadata": {},
   "outputs": [],
   "source": [
    "import torch \n",
    "from torch import nn\n"
   ]
  },
  {
   "attachments": {},
   "cell_type": "markdown",
   "metadata": {},
   "source": [
    "#### Torch.nn.functional.pad"
   ]
  },
  {
   "attachments": {},
   "cell_type": "markdown",
   "metadata": {},
   "source": [
    "## Padding\n",
    "    - `torch.nn.functional.pad(input, pad, mode='constant', value=0)`\n",
    "      - input (Tensor) – N-dimensional tensor\n",
    "      - pad (tuple) - (#_Padded left, #_padded right) * dim\n",
    "      - mode (str) – ‘constant’, ‘reflect’, ‘replicate’ or ‘circular’. Default: ‘constant’  \n",
    "        - value (float) – fill value for ‘constant’ padding. Default: 0\n",
    "          - can be assigned with a value of tensor\n",
    "for padding to work "
   ]
  },
  {
   "cell_type": "code",
   "execution_count": 3,
   "metadata": {},
   "outputs": [
    {
     "name": "stdout",
     "output_type": "stream",
     "text": [
      "torch.Size([3, 4])\n",
      "(1, 1)\n",
      "torch.Size([3, 6])\n",
      "tensor([[0., 0., 0., 0.],\n",
      "        [0., 0., 0., 0.],\n",
      "        [0., 0., 0., 0.]])\n",
      "tensor([[1., 0., 0., 0., 0., 1.],\n",
      "        [1., 0., 0., 0., 0., 1.],\n",
      "        [1., 0., 0., 0., 0., 1.]])\n"
     ]
    }
   ],
   "source": [
    "import torch.nn.functional as F\n",
    "torch.manual_seed(0)\n",
    "\n",
    "#* create 4D tensor\n",
    "tensor_2d = torch.zeros(3, 4)\n",
    "padding_val_1d= (1,1) #* (left, right) * (# of dim)\n",
    "\n",
    "len(padding_val_1d)\n",
    "values = [i for i in range(len(padding_val_1d)*tensor_2d.shape[0])]\n",
    "#* for padding to work\n",
    "\n",
    "print(tensor_2d.shape)\n",
    "print(padding_val_1d)\n",
    "\n",
    "#* padding\n",
    "\n",
    "#* padding 1D tensor\n",
    "padded_tensor = F.pad(tensor_2d, padding_val_1d, mode='constant', value=1.0)\n",
    "print(padded_tensor.shape)\n",
    "\n",
    "print(tensor_2d)\n",
    "print(padded_tensor)"
   ]
  },
  {
   "attachments": {},
   "cell_type": "markdown",
   "metadata": {},
   "source": [
    "## Cumulative prod \n",
    "    Tensor.cumprod(dim, dtype=None) → Tensor"
   ]
  },
  {
   "cell_type": "code",
   "execution_count": 5,
   "metadata": {},
   "outputs": [
    {
     "data": {
      "text/plain": [
       "tensor([  1,   2,   6,  24, 120])"
      ]
     },
     "execution_count": 5,
     "metadata": {},
     "output_type": "execute_result"
    }
   ],
   "source": [
    "tensor_1d = torch.tensor([1,2,3,4,5])\n",
    "torch.cumprod(tensor_1d, dim=0)\n"
   ]
  }
 ],
 "metadata": {
  "kernelspec": {
   "display_name": "gptq",
   "language": "python",
   "name": "python3"
  },
  "language_info": {
   "codemirror_mode": {
    "name": "ipython",
    "version": 3
   },
   "file_extension": ".py",
   "mimetype": "text/x-python",
   "name": "python",
   "nbconvert_exporter": "python",
   "pygments_lexer": "ipython3",
   "version": "3.9.16"
  },
  "orig_nbformat": 4
 },
 "nbformat": 4,
 "nbformat_minor": 2
}
