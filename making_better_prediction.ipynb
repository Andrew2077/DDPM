{
 "cells": [
  {
   "cell_type": "code",
   "execution_count": null,
   "metadata": {},
   "outputs": [],
   "source": [
    "%load_ext autoreload\n",
    "%autoreload 2\n",
    "\n",
    "import torch\n",
    "import numpy as np\n",
    "from torch import nn\n",
    "from DDUN.SUNET.unet import Unet\n",
    "from DDUN.SUNET.sddpm import MarkovDDPM\n",
    "from DDUN.SUNET.embedding import SinsuoidalPostionalEmbedding\n",
    "from DDUN.SUNET.utils import *\n",
    "from tqdm.notebook import tqdm\n",
    "from torch.optim import Adam\n",
    "from torchvision import datasets, transforms\n",
    "from torch.utils.data import DataLoader\n"
   ]
  },
  {
   "cell_type": "code",
   "execution_count": null,
   "metadata": {},
   "outputs": [],
   "source": [
    "# Markovddpm.load_state_dict(torch.load(\"models/best_ddpm_1000T.pt\"))\n",
    "# optimizer.load_state_dict(torch.load(\"models/optimizer.pt\"))"
   ]
  },
  {
   "cell_type": "code",
   "execution_count": null,
   "metadata": {},
   "outputs": [],
   "source": [
    "# * Initialization\n",
    "N_STEPS = 1000\n",
    "BATCH_SIZE = 32  # 1024\n",
    "TIME_EMB_DIM = 100\n",
    "START = 0.0001\n",
    "END = 0.02\n",
    "lr = 3e-4\n",
    "DEVICE = \"cuda\" if torch.cuda.is_available() else \"cpu\"\n",
    "# DEVICE = \"cpu\"\n",
    "\n",
    "# * Data\n",
    "transform_data = transforms.Compose(\n",
    "    [transforms.ToTensor(), transforms.Lambda(lambda x: (x - 0.5) * 2.0)]\n",
    ")\n",
    "\n",
    "reverse_transform = transforms.Compose(\n",
    "    [\n",
    "        transforms.Lambda(lambda t: (t + 1) / 2),\n",
    "        # transforms.Lambda(lambda t: t.permute(1, 2, 0)), # CHW to HWC\n",
    "        transforms.Lambda(lambda t: t * 255.0),\n",
    "        transforms.Lambda(lambda t: t.numpy().astype(np.uint8)),\n",
    "        transforms.ToPILImage(),\n",
    "    ]\n",
    ")\n",
    "\n",
    "loader = DataLoader(\n",
    "    datasets.FashionMNIST(\"data\", train=True, download=True, transform=transform_data),\n",
    "    batch_size=BATCH_SIZE,\n",
    "    shuffle=True,\n",
    ")"
   ]
  },
  {
   "cell_type": "code",
   "execution_count": null,
   "metadata": {},
   "outputs": [],
   "source": [
    "model = Unet(N_STEPS, TIME_EMB_DIM, DEVICE).to(DEVICE)\n",
    "diffuse = MarkovDDPM(N_STEPS, START, END, 1, 28, DEVICE)\n",
    "optimizer = Adam(model.parameters(), lr=lr)\n",
    "mse = nn.MSELoss()\n",
    "pbar = tqdm(loader)\n",
    "EPOCHS = 20\n",
    "BEST_LOSS = float(\"inf\")"
   ]
  },
  {
   "cell_type": "code",
   "execution_count": null,
   "metadata": {},
   "outputs": [],
   "source": [
    "model.load_state_dict(torch.load(\"models\\SDDPM_model.pth\"))\n",
    "# optimizer.load_state_dict(torch.load(\"models/optimizer.pt\"))"
   ]
  },
  {
   "cell_type": "code",
   "execution_count": null,
   "metadata": {},
   "outputs": [],
   "source": [
    "for epoch in range(EPOCHS):\n",
    "    epoch_loss = 0.0\n",
    "    for i , (images, _) in enumerate(tqdm(loader)):\n",
    "        images = images.to(DEVICE)\n",
    "        #t = torch.arange(images.shape[0]).to(DEVICE)\n",
    "        t = torch.randint(0, N_STEPS, (images.shape[0],), device=DEVICE).long()\n",
    "        \n",
    "        x_t, real_noise = diffuse.noise_images(images, t)\n",
    "        predicted_noise = model(x_t, t)\n",
    "        \n",
    "        loss = mse(predicted_noise, real_noise)\n",
    "        optimizer.zero_grad()\n",
    "        loss.backward()\n",
    "        optimizer.step()\n",
    "        \n",
    "        pbar.set_postfix(MSE = loss.item())\n",
    "        epoch_loss += loss.item()\n",
    "        \n",
    "    #* avg loss per epoch\n",
    "    epoch_loss /= len(loader)\n",
    "    \n",
    "    \n",
    "    if epoch_loss < BEST_LOSS:\n",
    "        BEST_LOSS = epoch_loss\n",
    "        torch.save(model.state_dict(), \"models/SDDPM.pth\")\n",
    "        print(\"+++++++++++++++++++++++++++++++++++++++\")\n",
    "        print(f\"at epoch {epoch} - loss improved to {BEST_LOSS:.6f}\")\n",
    "        print(\"+++++++++++++++++++++++++++++++++++++++\")\n",
    "    else: \n",
    "        print(f\"Epoch {epoch} loss: {epoch_loss:.6f}\")"
   ]
  },
  {
   "cell_type": "code",
   "execution_count": null,
   "metadata": {},
   "outputs": [],
   "source": [
    "gen, gen_hit = diffuse.generate(model, (16, 1, 28, 28), save_gen_hist=True)\n"
   ]
  },
  {
   "cell_type": "code",
   "execution_count": null,
   "metadata": {},
   "outputs": [],
   "source": [
    "diffuse.save_gen_into_gif(gen_hit, \"SDDPM_results\")"
   ]
  },
  {
   "cell_type": "code",
   "execution_count": null,
   "metadata": {},
   "outputs": [],
   "source": [
    "\n",
    "def save_gen_into_gif(self=None, gen_hist=None, gif_name=None):\n",
    "    frames = []\n",
    "    for idx, tensor in enumerate(gen_hist[-2*int(len(gen_hist)/3):]):\n",
    "        if idx % 9 == 0:\n",
    "            normalized = tensor.clone()\n",
    "            \n",
    "            for i in range(len(normalized)):\n",
    "                normalized[i] -= torch.min(normalized[i])\n",
    "                normalized[i] *= 255 / torch.max(normalized[i])\n",
    "                \n",
    "            #* resahimg to a square image\n",
    "            frame = einops.rearrange(normalized, \"(b1 b2) c h w -> (b1 h) (b2 w) c\", b1=int(tensor.shape[0]** 0.5))\n",
    "            frame = frame.cpu().numpy().astype(np.uint8)\n",
    "            frame = np.squeeze(frame, axis=2)\n",
    "            #* converting to PIL image\n",
    "            frame = Image.fromarray(frame)\n",
    "            frame = frame.resize((1024, 1024))\n",
    "            frame = np.array(frame)\n",
    "            frames.append(frame)\n",
    "    for i in range(18):\n",
    "        frames.append(frames[-1])\n",
    "    \n",
    "    if gif_name is None:\n",
    "        gif_name = \"SDDPM_results\"\n",
    "    imageio.mimsave(f'{gif_name}.gif', frames, format = 'GIF-PIL', fps =  100000 ) #type: ignore\n",
    "    print(f'gif with {len(frames)} frames saved')\n",
    "    plt.imshow(frames[-1], cmap='gray')\n",
    "    plt.axis('off')\n",
    "save_gen_into_gif(gen_hist=gen_hit)"
   ]
  },
  {
   "cell_type": "code",
   "execution_count": null,
   "metadata": {},
   "outputs": [],
   "source": []
  }
 ],
 "metadata": {
  "kernelspec": {
   "display_name": "gptq",
   "language": "python",
   "name": "python3"
  },
  "language_info": {
   "codemirror_mode": {
    "name": "ipython",
    "version": 3
   },
   "file_extension": ".py",
   "mimetype": "text/x-python",
   "name": "python",
   "nbconvert_exporter": "python",
   "pygments_lexer": "ipython3",
   "version": "3.9.16"
  },
  "orig_nbformat": 4
 },
 "nbformat": 4,
 "nbformat_minor": 2
}
